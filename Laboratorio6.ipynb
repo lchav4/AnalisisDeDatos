{
  "nbformat": 4,
  "nbformat_minor": 0,
  "metadata": {
    "colab": {
      "provenance": [],
      "include_colab_link": true
    },
    "kernelspec": {
      "name": "python3",
      "display_name": "Python 3"
    },
    "language_info": {
      "name": "python"
    }
  },
  "cells": [
    {
      "cell_type": "markdown",
      "metadata": {
        "id": "view-in-github",
        "colab_type": "text"
      },
      "source": [
        "<a href=\"https://colab.research.google.com/github/lchav4/AnalisisDeDatos/blob/main/Laboratorio6.ipynb\" target=\"_parent\"><img src=\"https://colab.research.google.com/assets/colab-badge.svg\" alt=\"Open In Colab\"/></a>"
      ]
    },
    {
      "cell_type": "markdown",
      "source": [],
      "metadata": {
        "id": "9u8o3olFsB62"
      }
    },
    {
      "cell_type": "markdown",
      "source": [
        "**Grupo 5**\n",
        "\n",
        "*Integrantes:*\n",
        "\n",
        "Sofia Arias Juarez\n",
        "\n",
        "Luis Diego Chavarria Chacon\n",
        "\n",
        "Alisson Steller Alfaro\n",
        "\n",
        "Andres Gonzalez Romero\n",
        "\n",
        "\n",
        "**Problema a resolver:** Al definir los diferentes valores para una composición de colores en formato RGB, queremos saber el código hexadecimal de dicho color y su correspondiente nombre.\n",
        "\n",
        "**Solución:**\n",
        "\n",
        "Primero, se creó una función para obtener información sobre el color basada en el código hexadecimal. En este caso, se consulta la API de TheColorAPI.\n",
        "Luego, se creó una función que toma los valores RGB (rojo, verde y azul) y obtiene el código hexadecimal correspondiente.\n",
        "Finalmente, dentro de la función main, se le pide al usuario los tres valores RGB y, utilizando las funciones obtener_color_info y rgb_to_hex, se muestra el resultado al usuario."
      ],
      "metadata": {
        "id": "SRNu2tCEvPml"
      }
    },
    {
      "cell_type": "code",
      "source": [
        "import requests\n",
        "\n",
        "\"\"\"\n",
        "  Obtiene la info del color correspondiente mediante\n",
        "un llamado a la API The Color API\n",
        "\"\"\"\n",
        "def obtener_color_info(hex_code):\n",
        "    url = f\"https://www.thecolorapi.com/id?hex={hex_code.lstrip('#')}\"\n",
        "    response = requests.get(url)\n",
        "    data = response.json()\n",
        "    return data\n",
        "\n",
        "#Fuente: Stack Overflow\n",
        "\"\"\"\n",
        "Esta funcion recibe una tupla que contiene los valores\n",
        "correspondientes a RGB, es decir, Rojo, Verde y Azul.\n",
        "Cada valor es un numero del 0 al 255. En Python, se puede convertir\n",
        "un numero a hexadecimal mediante una 'x'. El '%' se utiliza para insertar\n",
        "los valores de la tupla y concatenarlos. El '02' que está antes de la x\n",
        "especifica el ancho de esa cadena. La función devolverá, por lo tanto,\n",
        "el número en hexadecimal resultante.\n",
        "\"\"\"\n",
        "def rgb_to_hex(rgb):\n",
        "    return '#%02x%02x%02x' % rgb\n",
        "\n",
        "def main():\n",
        "  #Variable para saber si seguir preguntando el color\n",
        "  continuar = True\n",
        "  while continuar:\n",
        "    #Se pide un input de los 3 colores RGB\n",
        "    hex_r = int(input(\"Ingrese el numero correspondiente a ROJO:  \"))\n",
        "    hex_b = int(input(\"Ingrese el numero correspondiente a AZUL: \"))\n",
        "    hex_g = int(input(\"Ingrese el numero correspondiente a VERDE: \"))\n",
        "\n",
        "    #Se convierten los numeros RGB a hexadecimal mediante la función rgb_to_hex\n",
        "    hex_color = rgb_to_hex((hex_r, hex_g, hex_b))\n",
        "    #Se obtiene el color mediante el llamado a la API\n",
        "    color_info = obtener_color_info(hex_color)\n",
        "\n",
        "    #Si existe el nombre del color, se asigna el nombre a la variable\n",
        "    if 'name' in color_info:\n",
        "        nombre_color = color_info['name']['value']\n",
        "        #imprime el numero en hexadecimal y el nombre del color\n",
        "        print(f\"El nombre del color para {hex_color} es: {nombre_color}\")\n",
        "    else:\n",
        "        print(\"Color no encontrado.\")\n",
        "\n",
        "    #Pregunta si ingresar otro color\n",
        "    yn = input(\"Desea ingresar otro color? (y/n)\")\n",
        "    continuar = True if (yn == 'y' or yn=='Y') else False\n",
        "\n",
        "if __name__ == \"__main__\":\n",
        "    main()"
      ],
      "metadata": {
        "id": "oGk40ktAg6nz",
        "outputId": "2892e523-1752-4a50-c869-6ac0b85edb55",
        "colab": {
          "base_uri": "https://localhost:8080/"
        }
      },
      "execution_count": null,
      "outputs": [
        {
          "name": "stdout",
          "output_type": "stream",
          "text": [
            "Ingrese el numero correspondiente a ROJO:  27\n",
            "Ingrese el numero correspondiente a AZUL: 27\n",
            "Ingrese el numero correspondiente a VERDE: 27\n",
            "El nombre del color para #1b1b1b es: Eerie Black\n",
            "Desea ingresar otro color? (y/n)n\n"
          ]
        }
      ]
    }
  ]
}