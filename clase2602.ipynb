{
  "nbformat": 4,
  "nbformat_minor": 0,
  "metadata": {
    "colab": {
      "provenance": [],
      "authorship_tag": "ABX9TyNbTTt4OMi1NqrynmW2d2kK",
      "include_colab_link": true
    },
    "kernelspec": {
      "name": "python3",
      "display_name": "Python 3"
    },
    "language_info": {
      "name": "python"
    }
  },
  "cells": [
    {
      "cell_type": "markdown",
      "metadata": {
        "id": "view-in-github",
        "colab_type": "text"
      },
      "source": [
        "<a href=\"https://colab.research.google.com/github/lchav4/AnalisisDeDatos/blob/main/clase2602.ipynb\" target=\"_parent\"><img src=\"https://colab.research.google.com/assets/colab-badge.svg\" alt=\"Open In Colab\"/></a>"
      ]
    },
    {
      "cell_type": "code",
      "execution_count": null,
      "metadata": {
        "colab": {
          "base_uri": "https://localhost:8080/"
        },
        "id": "sSj7_rxuy9QL",
        "outputId": "0030f280-65ae-494f-9ee3-6d1e9a1e5ae5"
      },
      "outputs": [
        {
          "output_type": "stream",
          "name": "stdout",
          "text": [
            "Ejercicio 6\n",
            "Digite el valor de x1: 10\n",
            "Digite el valor de x2: 10\n",
            "Digite el valor de y1: 5\n",
            "Digite el valor de y2: 5\n",
            "El valor de la distancia entre dos puntos es de:  0.0\n"
          ]
        }
      ],
      "source": [
        "# #Ejercicio 1\n",
        "# print(\"Ejercicio #1 calcular distancia\")\n",
        "# print(\"Ingrese la velocidad y el tiempo de la unidad movil\")\n",
        "# v = float(input(\"Ingrese la velocidad: \"))\n",
        "# t = float(input(\"Ingrese el tiempo: \"))\n",
        "# print(f\"La distancia es: {v*t}\")\n",
        "\n",
        "#Ejercicio 5\n",
        "import math\n",
        "print(\"Ejercicio 6\")\n",
        "x1 = float(input(\"Digite el valor de x1: \"))\n",
        "y1 = float(input(\"Digite el valor de y1: \"))\n",
        "x2 = float(input(\"Digite el valor de x2: \"))\n",
        "y2 = float(input(\"Digite el valor de y2: \"))\n",
        "formula = math.sqrt((x2-x1)**2 + (y2-y1)**2)\n",
        "print(\"El valor de la distancia entre dos puntos es de: \", formula)"
      ]
    }
  ]
}